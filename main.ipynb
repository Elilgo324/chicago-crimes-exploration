{
 "cells": [
  {
   "cell_type": "markdown",
   "metadata": {
    "collapsed": true,
    "pycharm": {
     "name": "#%% md\n"
    }
   },
   "source": [
    "# data filtering and cleaning"
   ]
  },
  {
   "cell_type": "markdown",
   "source": [
    "## load data"
   ],
   "metadata": {
    "collapsed": false,
    "pycharm": {
     "name": "#%% md\n"
    }
   }
  },
  {
   "cell_type": "code",
   "execution_count": 2,
   "outputs": [],
   "source": [
    "import pandas as pd\n",
    "import numpy as np"
   ],
   "metadata": {
    "collapsed": false,
    "pycharm": {
     "name": "#%%\n"
    }
   }
  },
  {
   "cell_type": "code",
   "execution_count": 3,
   "outputs": [],
   "source": [
    "chicago = pd.read_csv('data/Chicago_Crimes_2012_to_2017.csv')"
   ],
   "metadata": {
    "collapsed": false,
    "pycharm": {
     "name": "#%%\n"
    }
   }
  },
  {
   "cell_type": "code",
   "execution_count": 4,
   "outputs": [
    {
     "data": {
      "text/plain": "   Unnamed: 0        ID Case Number                    Date  \\\n0           3  10508693    HZ250496  05/03/2016 11:40:00 PM   \n1          89  10508695    HZ250409  05/03/2016 09:40:00 PM   \n2         197  10508697    HZ250503  05/03/2016 11:31:00 PM   \n3         673  10508698    HZ250424  05/03/2016 10:10:00 PM   \n4         911  10508699    HZ250455  05/03/2016 10:00:00 PM   \n\n                 Block  IUCR            Primary Type              Description  \\\n0   013XX S SAWYER AVE  0486                 BATTERY  DOMESTIC BATTERY SIMPLE   \n1   061XX S DREXEL AVE  0486                 BATTERY  DOMESTIC BATTERY SIMPLE   \n2  053XX W CHICAGO AVE  0470  PUBLIC PEACE VIOLATION         RECKLESS CONDUCT   \n3    049XX W FULTON ST  0460                 BATTERY                   SIMPLE   \n4    003XX N LOTUS AVE  0820                   THEFT           $500 AND UNDER   \n\n  Location Description  Arrest  ...  Ward  Community Area  FBI Code  \\\n0            APARTMENT    True  ...  24.0            29.0       08B   \n1            RESIDENCE   False  ...  20.0            42.0       08B   \n2               STREET   False  ...  37.0            25.0        24   \n3             SIDEWALK   False  ...  28.0            25.0       08B   \n4            RESIDENCE   False  ...  28.0            25.0        06   \n\n   X Coordinate  Y Coordinate  Year              Updated On   Latitude  \\\n0     1154907.0     1893681.0  2016  05/10/2016 03:56:50 PM  41.864073   \n1     1183066.0     1864330.0  2016  05/10/2016 03:56:50 PM  41.782922   \n2     1140789.0     1904819.0  2016  05/10/2016 03:56:50 PM  41.894908   \n3     1143223.0     1901475.0  2016  05/10/2016 03:56:50 PM  41.885687   \n4     1139890.0     1901675.0  2016  05/10/2016 03:56:50 PM  41.886297   \n\n   Longitude                       Location  \n0 -87.706819  (41.864073157, -87.706818608)  \n1 -87.604363   (41.782921527, -87.60436317)  \n2 -87.758372  (41.894908283, -87.758371958)  \n3 -87.749516  (41.885686845, -87.749515983)  \n4 -87.761751  (41.886297242, -87.761750709)  \n\n[5 rows x 23 columns]",
      "text/html": "<div>\n<style scoped>\n    .dataframe tbody tr th:only-of-type {\n        vertical-align: middle;\n    }\n\n    .dataframe tbody tr th {\n        vertical-align: top;\n    }\n\n    .dataframe thead th {\n        text-align: right;\n    }\n</style>\n<table border=\"1\" class=\"dataframe\">\n  <thead>\n    <tr style=\"text-align: right;\">\n      <th></th>\n      <th>Unnamed: 0</th>\n      <th>ID</th>\n      <th>Case Number</th>\n      <th>Date</th>\n      <th>Block</th>\n      <th>IUCR</th>\n      <th>Primary Type</th>\n      <th>Description</th>\n      <th>Location Description</th>\n      <th>Arrest</th>\n      <th>...</th>\n      <th>Ward</th>\n      <th>Community Area</th>\n      <th>FBI Code</th>\n      <th>X Coordinate</th>\n      <th>Y Coordinate</th>\n      <th>Year</th>\n      <th>Updated On</th>\n      <th>Latitude</th>\n      <th>Longitude</th>\n      <th>Location</th>\n    </tr>\n  </thead>\n  <tbody>\n    <tr>\n      <th>0</th>\n      <td>3</td>\n      <td>10508693</td>\n      <td>HZ250496</td>\n      <td>05/03/2016 11:40:00 PM</td>\n      <td>013XX S SAWYER AVE</td>\n      <td>0486</td>\n      <td>BATTERY</td>\n      <td>DOMESTIC BATTERY SIMPLE</td>\n      <td>APARTMENT</td>\n      <td>True</td>\n      <td>...</td>\n      <td>24.0</td>\n      <td>29.0</td>\n      <td>08B</td>\n      <td>1154907.0</td>\n      <td>1893681.0</td>\n      <td>2016</td>\n      <td>05/10/2016 03:56:50 PM</td>\n      <td>41.864073</td>\n      <td>-87.706819</td>\n      <td>(41.864073157, -87.706818608)</td>\n    </tr>\n    <tr>\n      <th>1</th>\n      <td>89</td>\n      <td>10508695</td>\n      <td>HZ250409</td>\n      <td>05/03/2016 09:40:00 PM</td>\n      <td>061XX S DREXEL AVE</td>\n      <td>0486</td>\n      <td>BATTERY</td>\n      <td>DOMESTIC BATTERY SIMPLE</td>\n      <td>RESIDENCE</td>\n      <td>False</td>\n      <td>...</td>\n      <td>20.0</td>\n      <td>42.0</td>\n      <td>08B</td>\n      <td>1183066.0</td>\n      <td>1864330.0</td>\n      <td>2016</td>\n      <td>05/10/2016 03:56:50 PM</td>\n      <td>41.782922</td>\n      <td>-87.604363</td>\n      <td>(41.782921527, -87.60436317)</td>\n    </tr>\n    <tr>\n      <th>2</th>\n      <td>197</td>\n      <td>10508697</td>\n      <td>HZ250503</td>\n      <td>05/03/2016 11:31:00 PM</td>\n      <td>053XX W CHICAGO AVE</td>\n      <td>0470</td>\n      <td>PUBLIC PEACE VIOLATION</td>\n      <td>RECKLESS CONDUCT</td>\n      <td>STREET</td>\n      <td>False</td>\n      <td>...</td>\n      <td>37.0</td>\n      <td>25.0</td>\n      <td>24</td>\n      <td>1140789.0</td>\n      <td>1904819.0</td>\n      <td>2016</td>\n      <td>05/10/2016 03:56:50 PM</td>\n      <td>41.894908</td>\n      <td>-87.758372</td>\n      <td>(41.894908283, -87.758371958)</td>\n    </tr>\n    <tr>\n      <th>3</th>\n      <td>673</td>\n      <td>10508698</td>\n      <td>HZ250424</td>\n      <td>05/03/2016 10:10:00 PM</td>\n      <td>049XX W FULTON ST</td>\n      <td>0460</td>\n      <td>BATTERY</td>\n      <td>SIMPLE</td>\n      <td>SIDEWALK</td>\n      <td>False</td>\n      <td>...</td>\n      <td>28.0</td>\n      <td>25.0</td>\n      <td>08B</td>\n      <td>1143223.0</td>\n      <td>1901475.0</td>\n      <td>2016</td>\n      <td>05/10/2016 03:56:50 PM</td>\n      <td>41.885687</td>\n      <td>-87.749516</td>\n      <td>(41.885686845, -87.749515983)</td>\n    </tr>\n    <tr>\n      <th>4</th>\n      <td>911</td>\n      <td>10508699</td>\n      <td>HZ250455</td>\n      <td>05/03/2016 10:00:00 PM</td>\n      <td>003XX N LOTUS AVE</td>\n      <td>0820</td>\n      <td>THEFT</td>\n      <td>$500 AND UNDER</td>\n      <td>RESIDENCE</td>\n      <td>False</td>\n      <td>...</td>\n      <td>28.0</td>\n      <td>25.0</td>\n      <td>06</td>\n      <td>1139890.0</td>\n      <td>1901675.0</td>\n      <td>2016</td>\n      <td>05/10/2016 03:56:50 PM</td>\n      <td>41.886297</td>\n      <td>-87.761751</td>\n      <td>(41.886297242, -87.761750709)</td>\n    </tr>\n  </tbody>\n</table>\n<p>5 rows × 23 columns</p>\n</div>"
     },
     "execution_count": 4,
     "metadata": {},
     "output_type": "execute_result"
    }
   ],
   "source": [
    "chicago.head()"
   ],
   "metadata": {
    "collapsed": false,
    "pycharm": {
     "name": "#%%\n"
    }
   }
  },
  {
   "cell_type": "code",
   "execution_count": 5,
   "outputs": [
    {
     "data": {
      "text/plain": "         Unnamed: 0            ID          Beat      District          Ward  \\\ncount  1.456714e+06  1.456714e+06  1.456714e+06  1.456713e+06  1.456700e+06   \nmean   3.308606e+06  9.597550e+06  1.150644e+03  1.125920e+01  2.287027e+01   \nstd    1.235350e+06  8.083505e+05  6.916466e+02  6.904691e+00  1.380589e+01   \nmin    3.000000e+00  2.022400e+04  1.110000e+02  1.000000e+00  1.000000e+00   \n25%    2.698636e+06  9.002709e+06  6.130000e+02  6.000000e+00  1.000000e+01   \n50%    3.063654e+06  9.605776e+06  1.024000e+03  1.000000e+01  2.300000e+01   \n75%    3.428849e+06  1.022577e+07  1.711000e+03  1.700000e+01  3.400000e+01   \nmax    6.253474e+06  1.082788e+07  2.535000e+03  3.100000e+01  5.000000e+01   \n\n       Community Area  X Coordinate  Y Coordinate          Year      Latitude  \\\ncount    1.456674e+06  1.419631e+06  1.419631e+06  1.456714e+06  1.419631e+06   \nmean     3.745632e+01  1.164398e+06  1.885523e+06  2.013897e+03  4.184147e+01   \nstd      2.144029e+01  1.850835e+04  3.424775e+04  1.449584e+00  9.430126e-02   \nmin      0.000000e+00  0.000000e+00  0.000000e+00  2.012000e+03  3.661945e+01   \n25%      2.300000e+01  1.152544e+06  1.858762e+06  2.013000e+03  4.176787e+01   \n50%      3.200000e+01  1.166021e+06  1.891502e+06  2.014000e+03  4.185797e+01   \n75%      5.600000e+01  1.176363e+06  1.908713e+06  2.015000e+03  4.190529e+01   \nmax      7.700000e+01  1.205119e+06  1.951573e+06  2.017000e+03  4.202271e+01   \n\n          Longitude  \ncount  1.419631e+06  \nmean  -8.767224e+01  \nstd    6.661726e-02  \nmin   -9.168657e+01  \n25%   -8.771528e+01  \n50%   -8.766613e+01  \n75%   -8.762813e+01  \nmax   -8.752453e+01  ",
      "text/html": "<div>\n<style scoped>\n    .dataframe tbody tr th:only-of-type {\n        vertical-align: middle;\n    }\n\n    .dataframe tbody tr th {\n        vertical-align: top;\n    }\n\n    .dataframe thead th {\n        text-align: right;\n    }\n</style>\n<table border=\"1\" class=\"dataframe\">\n  <thead>\n    <tr style=\"text-align: right;\">\n      <th></th>\n      <th>Unnamed: 0</th>\n      <th>ID</th>\n      <th>Beat</th>\n      <th>District</th>\n      <th>Ward</th>\n      <th>Community Area</th>\n      <th>X Coordinate</th>\n      <th>Y Coordinate</th>\n      <th>Year</th>\n      <th>Latitude</th>\n      <th>Longitude</th>\n    </tr>\n  </thead>\n  <tbody>\n    <tr>\n      <th>count</th>\n      <td>1.456714e+06</td>\n      <td>1.456714e+06</td>\n      <td>1.456714e+06</td>\n      <td>1.456713e+06</td>\n      <td>1.456700e+06</td>\n      <td>1.456674e+06</td>\n      <td>1.419631e+06</td>\n      <td>1.419631e+06</td>\n      <td>1.456714e+06</td>\n      <td>1.419631e+06</td>\n      <td>1.419631e+06</td>\n    </tr>\n    <tr>\n      <th>mean</th>\n      <td>3.308606e+06</td>\n      <td>9.597550e+06</td>\n      <td>1.150644e+03</td>\n      <td>1.125920e+01</td>\n      <td>2.287027e+01</td>\n      <td>3.745632e+01</td>\n      <td>1.164398e+06</td>\n      <td>1.885523e+06</td>\n      <td>2.013897e+03</td>\n      <td>4.184147e+01</td>\n      <td>-8.767224e+01</td>\n    </tr>\n    <tr>\n      <th>std</th>\n      <td>1.235350e+06</td>\n      <td>8.083505e+05</td>\n      <td>6.916466e+02</td>\n      <td>6.904691e+00</td>\n      <td>1.380589e+01</td>\n      <td>2.144029e+01</td>\n      <td>1.850835e+04</td>\n      <td>3.424775e+04</td>\n      <td>1.449584e+00</td>\n      <td>9.430126e-02</td>\n      <td>6.661726e-02</td>\n    </tr>\n    <tr>\n      <th>min</th>\n      <td>3.000000e+00</td>\n      <td>2.022400e+04</td>\n      <td>1.110000e+02</td>\n      <td>1.000000e+00</td>\n      <td>1.000000e+00</td>\n      <td>0.000000e+00</td>\n      <td>0.000000e+00</td>\n      <td>0.000000e+00</td>\n      <td>2.012000e+03</td>\n      <td>3.661945e+01</td>\n      <td>-9.168657e+01</td>\n    </tr>\n    <tr>\n      <th>25%</th>\n      <td>2.698636e+06</td>\n      <td>9.002709e+06</td>\n      <td>6.130000e+02</td>\n      <td>6.000000e+00</td>\n      <td>1.000000e+01</td>\n      <td>2.300000e+01</td>\n      <td>1.152544e+06</td>\n      <td>1.858762e+06</td>\n      <td>2.013000e+03</td>\n      <td>4.176787e+01</td>\n      <td>-8.771528e+01</td>\n    </tr>\n    <tr>\n      <th>50%</th>\n      <td>3.063654e+06</td>\n      <td>9.605776e+06</td>\n      <td>1.024000e+03</td>\n      <td>1.000000e+01</td>\n      <td>2.300000e+01</td>\n      <td>3.200000e+01</td>\n      <td>1.166021e+06</td>\n      <td>1.891502e+06</td>\n      <td>2.014000e+03</td>\n      <td>4.185797e+01</td>\n      <td>-8.766613e+01</td>\n    </tr>\n    <tr>\n      <th>75%</th>\n      <td>3.428849e+06</td>\n      <td>1.022577e+07</td>\n      <td>1.711000e+03</td>\n      <td>1.700000e+01</td>\n      <td>3.400000e+01</td>\n      <td>5.600000e+01</td>\n      <td>1.176363e+06</td>\n      <td>1.908713e+06</td>\n      <td>2.015000e+03</td>\n      <td>4.190529e+01</td>\n      <td>-8.762813e+01</td>\n    </tr>\n    <tr>\n      <th>max</th>\n      <td>6.253474e+06</td>\n      <td>1.082788e+07</td>\n      <td>2.535000e+03</td>\n      <td>3.100000e+01</td>\n      <td>5.000000e+01</td>\n      <td>7.700000e+01</td>\n      <td>1.205119e+06</td>\n      <td>1.951573e+06</td>\n      <td>2.017000e+03</td>\n      <td>4.202271e+01</td>\n      <td>-8.752453e+01</td>\n    </tr>\n  </tbody>\n</table>\n</div>"
     },
     "execution_count": 5,
     "metadata": {},
     "output_type": "execute_result"
    }
   ],
   "source": [
    "chicago.describe()"
   ],
   "metadata": {
    "collapsed": false,
    "pycharm": {
     "name": "#%%\n"
    }
   }
  },
  {
   "cell_type": "code",
   "execution_count": 6,
   "outputs": [
    {
     "data": {
      "text/plain": "1456714"
     },
     "execution_count": 6,
     "metadata": {},
     "output_type": "execute_result"
    }
   ],
   "source": [
    "len(chicago)"
   ],
   "metadata": {
    "collapsed": false,
    "pycharm": {
     "name": "#%%\n"
    }
   }
  },
  {
   "cell_type": "markdown",
   "source": [
    "## sample data"
   ],
   "metadata": {
    "collapsed": false,
    "pycharm": {
     "name": "#%% md\n"
    }
   }
  },
  {
   "cell_type": "code",
   "source": [
    "sample = chicago.copy()"
   ],
   "metadata": {
    "collapsed": false,
    "pycharm": {
     "name": "#%%\n"
    }
   },
   "execution_count": 7,
   "outputs": []
  },
  {
   "cell_type": "code",
   "execution_count": 8,
   "outputs": [],
   "source": [
    "# drop 3/4 rows of the data uniformly\n",
    "drop_indices = np.random.choice(sample.index, int(3 * len(sample) / 4), replace=False)\n",
    "sample = sample.drop(drop_indices)"
   ],
   "metadata": {
    "collapsed": false,
    "pycharm": {
     "name": "#%%\n"
    }
   }
  },
  {
   "cell_type": "code",
   "execution_count": 9,
   "outputs": [
    {
     "data": {
      "text/plain": "364179"
     },
     "execution_count": 9,
     "metadata": {},
     "output_type": "execute_result"
    }
   ],
   "source": [
    "len(sample)"
   ],
   "metadata": {
    "collapsed": false,
    "pycharm": {
     "name": "#%%\n"
    }
   }
  },
  {
   "cell_type": "code",
   "execution_count": 10,
   "outputs": [
    {
     "data": {
      "text/plain": "    Unnamed: 0        ID Case Number                    Date  \\\n1           89  10508695    HZ250409  05/03/2016 09:40:00 PM   \n3          673  10508698    HZ250424  05/03/2016 10:10:00 PM   \n8         1868  10508709    HZ250523  05/03/2016 04:00:00 PM   \n9         1891  10508982    HZ250667  05/03/2016 10:30:00 PM   \n27        5225  10509077    HZ250776  05/03/2016 12:01:00 AM   \n\n                  Block  IUCR        Primary Type               Description  \\\n1    061XX S DREXEL AVE  0486             BATTERY   DOMESTIC BATTERY SIMPLE   \n3     049XX W FULTON ST  0460             BATTERY                    SIMPLE   \n8     014XX W DEVON AVE  0460             BATTERY                    SIMPLE   \n9   069XX S ASHLAND AVE  0486             BATTERY   DOMESTIC BATTERY SIMPLE   \n27      002XX W 33RD ST  1130  DECEPTIVE PRACTICE  FRAUD OR CONFIDENCE GAME   \n\n   Location Description  Arrest  ...  Ward  Community Area  FBI Code  \\\n1             RESIDENCE   False  ...  20.0            42.0       08B   \n3              SIDEWALK   False  ...  28.0            25.0       08B   \n8              SIDEWALK   False  ...  40.0             1.0       08B   \n9                STREET   False  ...  17.0            67.0       08B   \n27            RESIDENCE   False  ...  11.0            34.0        11   \n\n    X Coordinate  Y Coordinate  Year              Updated On   Latitude  \\\n1      1183066.0     1864330.0  2016  05/10/2016 03:56:50 PM  41.782922   \n3      1143223.0     1901475.0  2016  05/10/2016 03:56:50 PM  41.885687   \n8      1165696.0     1942616.0  2016  05/10/2016 03:56:50 PM  41.998131   \n9      1166876.0     1858796.0  2016  05/10/2016 03:56:50 PM  41.768097   \n27     1175297.0     1883093.0  2016  05/10/2016 03:56:50 PM  41.834586   \n\n    Longitude                       Location  \n1  -87.604363   (41.782921527, -87.60436317)  \n3  -87.749516  (41.885686845, -87.749515983)  \n8  -87.665814   (41.99813061, -87.665814038)  \n9  -87.663879  (41.768096835, -87.663878589)  \n27 -87.632285  (41.834586177, -87.632285413)  \n\n[5 rows x 23 columns]",
      "text/html": "<div>\n<style scoped>\n    .dataframe tbody tr th:only-of-type {\n        vertical-align: middle;\n    }\n\n    .dataframe tbody tr th {\n        vertical-align: top;\n    }\n\n    .dataframe thead th {\n        text-align: right;\n    }\n</style>\n<table border=\"1\" class=\"dataframe\">\n  <thead>\n    <tr style=\"text-align: right;\">\n      <th></th>\n      <th>Unnamed: 0</th>\n      <th>ID</th>\n      <th>Case Number</th>\n      <th>Date</th>\n      <th>Block</th>\n      <th>IUCR</th>\n      <th>Primary Type</th>\n      <th>Description</th>\n      <th>Location Description</th>\n      <th>Arrest</th>\n      <th>...</th>\n      <th>Ward</th>\n      <th>Community Area</th>\n      <th>FBI Code</th>\n      <th>X Coordinate</th>\n      <th>Y Coordinate</th>\n      <th>Year</th>\n      <th>Updated On</th>\n      <th>Latitude</th>\n      <th>Longitude</th>\n      <th>Location</th>\n    </tr>\n  </thead>\n  <tbody>\n    <tr>\n      <th>1</th>\n      <td>89</td>\n      <td>10508695</td>\n      <td>HZ250409</td>\n      <td>05/03/2016 09:40:00 PM</td>\n      <td>061XX S DREXEL AVE</td>\n      <td>0486</td>\n      <td>BATTERY</td>\n      <td>DOMESTIC BATTERY SIMPLE</td>\n      <td>RESIDENCE</td>\n      <td>False</td>\n      <td>...</td>\n      <td>20.0</td>\n      <td>42.0</td>\n      <td>08B</td>\n      <td>1183066.0</td>\n      <td>1864330.0</td>\n      <td>2016</td>\n      <td>05/10/2016 03:56:50 PM</td>\n      <td>41.782922</td>\n      <td>-87.604363</td>\n      <td>(41.782921527, -87.60436317)</td>\n    </tr>\n    <tr>\n      <th>3</th>\n      <td>673</td>\n      <td>10508698</td>\n      <td>HZ250424</td>\n      <td>05/03/2016 10:10:00 PM</td>\n      <td>049XX W FULTON ST</td>\n      <td>0460</td>\n      <td>BATTERY</td>\n      <td>SIMPLE</td>\n      <td>SIDEWALK</td>\n      <td>False</td>\n      <td>...</td>\n      <td>28.0</td>\n      <td>25.0</td>\n      <td>08B</td>\n      <td>1143223.0</td>\n      <td>1901475.0</td>\n      <td>2016</td>\n      <td>05/10/2016 03:56:50 PM</td>\n      <td>41.885687</td>\n      <td>-87.749516</td>\n      <td>(41.885686845, -87.749515983)</td>\n    </tr>\n    <tr>\n      <th>8</th>\n      <td>1868</td>\n      <td>10508709</td>\n      <td>HZ250523</td>\n      <td>05/03/2016 04:00:00 PM</td>\n      <td>014XX W DEVON AVE</td>\n      <td>0460</td>\n      <td>BATTERY</td>\n      <td>SIMPLE</td>\n      <td>SIDEWALK</td>\n      <td>False</td>\n      <td>...</td>\n      <td>40.0</td>\n      <td>1.0</td>\n      <td>08B</td>\n      <td>1165696.0</td>\n      <td>1942616.0</td>\n      <td>2016</td>\n      <td>05/10/2016 03:56:50 PM</td>\n      <td>41.998131</td>\n      <td>-87.665814</td>\n      <td>(41.99813061, -87.665814038)</td>\n    </tr>\n    <tr>\n      <th>9</th>\n      <td>1891</td>\n      <td>10508982</td>\n      <td>HZ250667</td>\n      <td>05/03/2016 10:30:00 PM</td>\n      <td>069XX S ASHLAND AVE</td>\n      <td>0486</td>\n      <td>BATTERY</td>\n      <td>DOMESTIC BATTERY SIMPLE</td>\n      <td>STREET</td>\n      <td>False</td>\n      <td>...</td>\n      <td>17.0</td>\n      <td>67.0</td>\n      <td>08B</td>\n      <td>1166876.0</td>\n      <td>1858796.0</td>\n      <td>2016</td>\n      <td>05/10/2016 03:56:50 PM</td>\n      <td>41.768097</td>\n      <td>-87.663879</td>\n      <td>(41.768096835, -87.663878589)</td>\n    </tr>\n    <tr>\n      <th>27</th>\n      <td>5225</td>\n      <td>10509077</td>\n      <td>HZ250776</td>\n      <td>05/03/2016 12:01:00 AM</td>\n      <td>002XX W 33RD ST</td>\n      <td>1130</td>\n      <td>DECEPTIVE PRACTICE</td>\n      <td>FRAUD OR CONFIDENCE GAME</td>\n      <td>RESIDENCE</td>\n      <td>False</td>\n      <td>...</td>\n      <td>11.0</td>\n      <td>34.0</td>\n      <td>11</td>\n      <td>1175297.0</td>\n      <td>1883093.0</td>\n      <td>2016</td>\n      <td>05/10/2016 03:56:50 PM</td>\n      <td>41.834586</td>\n      <td>-87.632285</td>\n      <td>(41.834586177, -87.632285413)</td>\n    </tr>\n  </tbody>\n</table>\n<p>5 rows × 23 columns</p>\n</div>"
     },
     "execution_count": 10,
     "metadata": {},
     "output_type": "execute_result"
    }
   ],
   "source": [
    "sample.head()"
   ],
   "metadata": {
    "collapsed": false,
    "pycharm": {
     "name": "#%%\n"
    }
   }
  },
  {
   "cell_type": "code",
   "execution_count": 11,
   "outputs": [],
   "source": [
    "sample.to_csv('chicago_sample.csv', sep=',')"
   ],
   "metadata": {
    "collapsed": false,
    "pycharm": {
     "name": "#%%\n"
    }
   }
  },
  {
   "cell_type": "markdown",
   "source": [
    "## clean data"
   ],
   "metadata": {
    "collapsed": false,
    "pycharm": {
     "name": "#%% md\n"
    }
   }
  },
  {
   "cell_type": "code",
   "execution_count": 32,
   "outputs": [],
   "source": [
    "clean_sample = sample.copy()"
   ],
   "metadata": {
    "collapsed": false,
    "pycharm": {
     "name": "#%%\n"
    }
   }
  },
  {
   "cell_type": "code",
   "execution_count": 33,
   "outputs": [],
   "source": [
    "clean_sample.drop(['X Coordinate', 'Y Coordinate', 'Location', 'Updated On', 'IUCR', 'Unnamed: 0', 'Block', 'Case Number', 'Ward', 'Community Area'], axis=1, inplace=True)"
   ],
   "metadata": {
    "collapsed": false,
    "pycharm": {
     "name": "#%%\n"
    }
   }
  },
  {
   "cell_type": "code",
   "execution_count": 34,
   "outputs": [],
   "source": [
    "clean_sample.to_csv('chicago_clean_sample.csv', sep=',')"
   ],
   "metadata": {
    "collapsed": false,
    "pycharm": {
     "name": "#%%\n"
    }
   }
  },
  {
   "cell_type": "code",
   "execution_count": null,
   "outputs": [],
   "source": [],
   "metadata": {
    "collapsed": false,
    "pycharm": {
     "name": "#%%\n"
    }
   }
  }
 ],
 "metadata": {
  "kernelspec": {
   "display_name": "Python 3",
   "language": "python",
   "name": "python3"
  },
  "language_info": {
   "codemirror_mode": {
    "name": "ipython",
    "version": 2
   },
   "file_extension": ".py",
   "mimetype": "text/x-python",
   "name": "python",
   "nbconvert_exporter": "python",
   "pygments_lexer": "ipython2",
   "version": "2.7.6"
  }
 },
 "nbformat": 4,
 "nbformat_minor": 0
}