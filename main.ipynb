{
 "cells": [
  {
   "cell_type": "markdown",
   "metadata": {
    "collapsed": true,
    "pycharm": {
     "name": "#%% md\n"
    }
   },
   "source": [
    "# Chicago Crimes Data Filtering"
   ]
  },
  {
   "cell_type": "markdown",
   "source": [
    "## load data between 2012 and 2017"
   ],
   "metadata": {
    "collapsed": false,
    "pycharm": {
     "name": "#%% md\n"
    }
   }
  },
  {
   "cell_type": "code",
   "execution_count": 104,
   "outputs": [],
   "source": [
    "import random\n",
    "import json\n",
    "from random import choices\n",
    "\n",
    "import pandas as pd\n",
    "import numpy as np\n",
    "import shapely.wkt\n",
    "from shapely.geometry.point import Point\n",
    "from shapely.geometry.multipolygon import MultiPolygon\n",
    "from shapely.geometry.polygon import Polygon\n",
    "import matplotlib.pyplot as plt\n",
    "from descartes import PolygonPatch\n",
    "import matplotlib\n",
    "import matplotlib.cm as cm\n",
    "from matplotlib import colors"
   ],
   "metadata": {
    "collapsed": false,
    "pycharm": {
     "name": "#%%\n"
    }
   }
  },
  {
   "cell_type": "code",
   "execution_count": 105,
   "outputs": [],
   "source": [
    "chicago = pd.read_csv('data/Chicago_Crimes_2012_to_2017.csv')"
   ],
   "metadata": {
    "collapsed": false,
    "pycharm": {
     "name": "#%%\n"
    }
   }
  },
  {
   "cell_type": "code",
   "execution_count": 106,
   "outputs": [
    {
     "data": {
      "text/plain": "   Unnamed: 0        ID Case Number                    Date  \\\n0           3  10508693    HZ250496  05/03/2016 11:40:00 PM   \n1          89  10508695    HZ250409  05/03/2016 09:40:00 PM   \n2         197  10508697    HZ250503  05/03/2016 11:31:00 PM   \n3         673  10508698    HZ250424  05/03/2016 10:10:00 PM   \n4         911  10508699    HZ250455  05/03/2016 10:00:00 PM   \n\n                 Block  IUCR            Primary Type              Description  \\\n0   013XX S SAWYER AVE  0486                 BATTERY  DOMESTIC BATTERY SIMPLE   \n1   061XX S DREXEL AVE  0486                 BATTERY  DOMESTIC BATTERY SIMPLE   \n2  053XX W CHICAGO AVE  0470  PUBLIC PEACE VIOLATION         RECKLESS CONDUCT   \n3    049XX W FULTON ST  0460                 BATTERY                   SIMPLE   \n4    003XX N LOTUS AVE  0820                   THEFT           $500 AND UNDER   \n\n  Location Description  Arrest  ...  Ward  Community Area  FBI Code  \\\n0            APARTMENT    True  ...  24.0            29.0       08B   \n1            RESIDENCE   False  ...  20.0            42.0       08B   \n2               STREET   False  ...  37.0            25.0        24   \n3             SIDEWALK   False  ...  28.0            25.0       08B   \n4            RESIDENCE   False  ...  28.0            25.0        06   \n\n   X Coordinate  Y Coordinate  Year              Updated On   Latitude  \\\n0     1154907.0     1893681.0  2016  05/10/2016 03:56:50 PM  41.864073   \n1     1183066.0     1864330.0  2016  05/10/2016 03:56:50 PM  41.782922   \n2     1140789.0     1904819.0  2016  05/10/2016 03:56:50 PM  41.894908   \n3     1143223.0     1901475.0  2016  05/10/2016 03:56:50 PM  41.885687   \n4     1139890.0     1901675.0  2016  05/10/2016 03:56:50 PM  41.886297   \n\n   Longitude                       Location  \n0 -87.706819  (41.864073157, -87.706818608)  \n1 -87.604363   (41.782921527, -87.60436317)  \n2 -87.758372  (41.894908283, -87.758371958)  \n3 -87.749516  (41.885686845, -87.749515983)  \n4 -87.761751  (41.886297242, -87.761750709)  \n\n[5 rows x 23 columns]",
      "text/html": "<div>\n<style scoped>\n    .dataframe tbody tr th:only-of-type {\n        vertical-align: middle;\n    }\n\n    .dataframe tbody tr th {\n        vertical-align: top;\n    }\n\n    .dataframe thead th {\n        text-align: right;\n    }\n</style>\n<table border=\"1\" class=\"dataframe\">\n  <thead>\n    <tr style=\"text-align: right;\">\n      <th></th>\n      <th>Unnamed: 0</th>\n      <th>ID</th>\n      <th>Case Number</th>\n      <th>Date</th>\n      <th>Block</th>\n      <th>IUCR</th>\n      <th>Primary Type</th>\n      <th>Description</th>\n      <th>Location Description</th>\n      <th>Arrest</th>\n      <th>...</th>\n      <th>Ward</th>\n      <th>Community Area</th>\n      <th>FBI Code</th>\n      <th>X Coordinate</th>\n      <th>Y Coordinate</th>\n      <th>Year</th>\n      <th>Updated On</th>\n      <th>Latitude</th>\n      <th>Longitude</th>\n      <th>Location</th>\n    </tr>\n  </thead>\n  <tbody>\n    <tr>\n      <th>0</th>\n      <td>3</td>\n      <td>10508693</td>\n      <td>HZ250496</td>\n      <td>05/03/2016 11:40:00 PM</td>\n      <td>013XX S SAWYER AVE</td>\n      <td>0486</td>\n      <td>BATTERY</td>\n      <td>DOMESTIC BATTERY SIMPLE</td>\n      <td>APARTMENT</td>\n      <td>True</td>\n      <td>...</td>\n      <td>24.0</td>\n      <td>29.0</td>\n      <td>08B</td>\n      <td>1154907.0</td>\n      <td>1893681.0</td>\n      <td>2016</td>\n      <td>05/10/2016 03:56:50 PM</td>\n      <td>41.864073</td>\n      <td>-87.706819</td>\n      <td>(41.864073157, -87.706818608)</td>\n    </tr>\n    <tr>\n      <th>1</th>\n      <td>89</td>\n      <td>10508695</td>\n      <td>HZ250409</td>\n      <td>05/03/2016 09:40:00 PM</td>\n      <td>061XX S DREXEL AVE</td>\n      <td>0486</td>\n      <td>BATTERY</td>\n      <td>DOMESTIC BATTERY SIMPLE</td>\n      <td>RESIDENCE</td>\n      <td>False</td>\n      <td>...</td>\n      <td>20.0</td>\n      <td>42.0</td>\n      <td>08B</td>\n      <td>1183066.0</td>\n      <td>1864330.0</td>\n      <td>2016</td>\n      <td>05/10/2016 03:56:50 PM</td>\n      <td>41.782922</td>\n      <td>-87.604363</td>\n      <td>(41.782921527, -87.60436317)</td>\n    </tr>\n    <tr>\n      <th>2</th>\n      <td>197</td>\n      <td>10508697</td>\n      <td>HZ250503</td>\n      <td>05/03/2016 11:31:00 PM</td>\n      <td>053XX W CHICAGO AVE</td>\n      <td>0470</td>\n      <td>PUBLIC PEACE VIOLATION</td>\n      <td>RECKLESS CONDUCT</td>\n      <td>STREET</td>\n      <td>False</td>\n      <td>...</td>\n      <td>37.0</td>\n      <td>25.0</td>\n      <td>24</td>\n      <td>1140789.0</td>\n      <td>1904819.0</td>\n      <td>2016</td>\n      <td>05/10/2016 03:56:50 PM</td>\n      <td>41.894908</td>\n      <td>-87.758372</td>\n      <td>(41.894908283, -87.758371958)</td>\n    </tr>\n    <tr>\n      <th>3</th>\n      <td>673</td>\n      <td>10508698</td>\n      <td>HZ250424</td>\n      <td>05/03/2016 10:10:00 PM</td>\n      <td>049XX W FULTON ST</td>\n      <td>0460</td>\n      <td>BATTERY</td>\n      <td>SIMPLE</td>\n      <td>SIDEWALK</td>\n      <td>False</td>\n      <td>...</td>\n      <td>28.0</td>\n      <td>25.0</td>\n      <td>08B</td>\n      <td>1143223.0</td>\n      <td>1901475.0</td>\n      <td>2016</td>\n      <td>05/10/2016 03:56:50 PM</td>\n      <td>41.885687</td>\n      <td>-87.749516</td>\n      <td>(41.885686845, -87.749515983)</td>\n    </tr>\n    <tr>\n      <th>4</th>\n      <td>911</td>\n      <td>10508699</td>\n      <td>HZ250455</td>\n      <td>05/03/2016 10:00:00 PM</td>\n      <td>003XX N LOTUS AVE</td>\n      <td>0820</td>\n      <td>THEFT</td>\n      <td>$500 AND UNDER</td>\n      <td>RESIDENCE</td>\n      <td>False</td>\n      <td>...</td>\n      <td>28.0</td>\n      <td>25.0</td>\n      <td>06</td>\n      <td>1139890.0</td>\n      <td>1901675.0</td>\n      <td>2016</td>\n      <td>05/10/2016 03:56:50 PM</td>\n      <td>41.886297</td>\n      <td>-87.761751</td>\n      <td>(41.886297242, -87.761750709)</td>\n    </tr>\n  </tbody>\n</table>\n<p>5 rows × 23 columns</p>\n</div>"
     },
     "execution_count": 106,
     "metadata": {},
     "output_type": "execute_result"
    }
   ],
   "source": [
    "chicago.head()"
   ],
   "metadata": {
    "collapsed": false,
    "pycharm": {
     "name": "#%%\n"
    }
   }
  },
  {
   "cell_type": "code",
   "execution_count": 107,
   "outputs": [
    {
     "data": {
      "text/plain": "         Unnamed: 0            ID          Beat      District          Ward  \\\ncount  1.456714e+06  1.456714e+06  1.456714e+06  1.456713e+06  1.456700e+06   \nmean   3.308606e+06  9.597550e+06  1.150644e+03  1.125920e+01  2.287027e+01   \nstd    1.235350e+06  8.083505e+05  6.916466e+02  6.904691e+00  1.380589e+01   \nmin    3.000000e+00  2.022400e+04  1.110000e+02  1.000000e+00  1.000000e+00   \n25%    2.698636e+06  9.002709e+06  6.130000e+02  6.000000e+00  1.000000e+01   \n50%    3.063654e+06  9.605776e+06  1.024000e+03  1.000000e+01  2.300000e+01   \n75%    3.428849e+06  1.022577e+07  1.711000e+03  1.700000e+01  3.400000e+01   \nmax    6.253474e+06  1.082788e+07  2.535000e+03  3.100000e+01  5.000000e+01   \n\n       Community Area  X Coordinate  Y Coordinate          Year      Latitude  \\\ncount    1.456674e+06  1.419631e+06  1.419631e+06  1.456714e+06  1.419631e+06   \nmean     3.745632e+01  1.164398e+06  1.885523e+06  2.013897e+03  4.184147e+01   \nstd      2.144029e+01  1.850835e+04  3.424775e+04  1.449584e+00  9.430126e-02   \nmin      0.000000e+00  0.000000e+00  0.000000e+00  2.012000e+03  3.661945e+01   \n25%      2.300000e+01  1.152544e+06  1.858762e+06  2.013000e+03  4.176787e+01   \n50%      3.200000e+01  1.166021e+06  1.891502e+06  2.014000e+03  4.185797e+01   \n75%      5.600000e+01  1.176363e+06  1.908713e+06  2.015000e+03  4.190529e+01   \nmax      7.700000e+01  1.205119e+06  1.951573e+06  2.017000e+03  4.202271e+01   \n\n          Longitude  \ncount  1.419631e+06  \nmean  -8.767224e+01  \nstd    6.661726e-02  \nmin   -9.168657e+01  \n25%   -8.771528e+01  \n50%   -8.766613e+01  \n75%   -8.762813e+01  \nmax   -8.752453e+01  ",
      "text/html": "<div>\n<style scoped>\n    .dataframe tbody tr th:only-of-type {\n        vertical-align: middle;\n    }\n\n    .dataframe tbody tr th {\n        vertical-align: top;\n    }\n\n    .dataframe thead th {\n        text-align: right;\n    }\n</style>\n<table border=\"1\" class=\"dataframe\">\n  <thead>\n    <tr style=\"text-align: right;\">\n      <th></th>\n      <th>Unnamed: 0</th>\n      <th>ID</th>\n      <th>Beat</th>\n      <th>District</th>\n      <th>Ward</th>\n      <th>Community Area</th>\n      <th>X Coordinate</th>\n      <th>Y Coordinate</th>\n      <th>Year</th>\n      <th>Latitude</th>\n      <th>Longitude</th>\n    </tr>\n  </thead>\n  <tbody>\n    <tr>\n      <th>count</th>\n      <td>1.456714e+06</td>\n      <td>1.456714e+06</td>\n      <td>1.456714e+06</td>\n      <td>1.456713e+06</td>\n      <td>1.456700e+06</td>\n      <td>1.456674e+06</td>\n      <td>1.419631e+06</td>\n      <td>1.419631e+06</td>\n      <td>1.456714e+06</td>\n      <td>1.419631e+06</td>\n      <td>1.419631e+06</td>\n    </tr>\n    <tr>\n      <th>mean</th>\n      <td>3.308606e+06</td>\n      <td>9.597550e+06</td>\n      <td>1.150644e+03</td>\n      <td>1.125920e+01</td>\n      <td>2.287027e+01</td>\n      <td>3.745632e+01</td>\n      <td>1.164398e+06</td>\n      <td>1.885523e+06</td>\n      <td>2.013897e+03</td>\n      <td>4.184147e+01</td>\n      <td>-8.767224e+01</td>\n    </tr>\n    <tr>\n      <th>std</th>\n      <td>1.235350e+06</td>\n      <td>8.083505e+05</td>\n      <td>6.916466e+02</td>\n      <td>6.904691e+00</td>\n      <td>1.380589e+01</td>\n      <td>2.144029e+01</td>\n      <td>1.850835e+04</td>\n      <td>3.424775e+04</td>\n      <td>1.449584e+00</td>\n      <td>9.430126e-02</td>\n      <td>6.661726e-02</td>\n    </tr>\n    <tr>\n      <th>min</th>\n      <td>3.000000e+00</td>\n      <td>2.022400e+04</td>\n      <td>1.110000e+02</td>\n      <td>1.000000e+00</td>\n      <td>1.000000e+00</td>\n      <td>0.000000e+00</td>\n      <td>0.000000e+00</td>\n      <td>0.000000e+00</td>\n      <td>2.012000e+03</td>\n      <td>3.661945e+01</td>\n      <td>-9.168657e+01</td>\n    </tr>\n    <tr>\n      <th>25%</th>\n      <td>2.698636e+06</td>\n      <td>9.002709e+06</td>\n      <td>6.130000e+02</td>\n      <td>6.000000e+00</td>\n      <td>1.000000e+01</td>\n      <td>2.300000e+01</td>\n      <td>1.152544e+06</td>\n      <td>1.858762e+06</td>\n      <td>2.013000e+03</td>\n      <td>4.176787e+01</td>\n      <td>-8.771528e+01</td>\n    </tr>\n    <tr>\n      <th>50%</th>\n      <td>3.063654e+06</td>\n      <td>9.605776e+06</td>\n      <td>1.024000e+03</td>\n      <td>1.000000e+01</td>\n      <td>2.300000e+01</td>\n      <td>3.200000e+01</td>\n      <td>1.166021e+06</td>\n      <td>1.891502e+06</td>\n      <td>2.014000e+03</td>\n      <td>4.185797e+01</td>\n      <td>-8.766613e+01</td>\n    </tr>\n    <tr>\n      <th>75%</th>\n      <td>3.428849e+06</td>\n      <td>1.022577e+07</td>\n      <td>1.711000e+03</td>\n      <td>1.700000e+01</td>\n      <td>3.400000e+01</td>\n      <td>5.600000e+01</td>\n      <td>1.176363e+06</td>\n      <td>1.908713e+06</td>\n      <td>2.015000e+03</td>\n      <td>4.190529e+01</td>\n      <td>-8.762813e+01</td>\n    </tr>\n    <tr>\n      <th>max</th>\n      <td>6.253474e+06</td>\n      <td>1.082788e+07</td>\n      <td>2.535000e+03</td>\n      <td>3.100000e+01</td>\n      <td>5.000000e+01</td>\n      <td>7.700000e+01</td>\n      <td>1.205119e+06</td>\n      <td>1.951573e+06</td>\n      <td>2.017000e+03</td>\n      <td>4.202271e+01</td>\n      <td>-8.752453e+01</td>\n    </tr>\n  </tbody>\n</table>\n</div>"
     },
     "execution_count": 107,
     "metadata": {},
     "output_type": "execute_result"
    }
   ],
   "source": [
    "chicago.describe()"
   ],
   "metadata": {
    "collapsed": false,
    "pycharm": {
     "name": "#%%\n"
    }
   }
  },
  {
   "cell_type": "code",
   "execution_count": 108,
   "outputs": [
    {
     "data": {
      "text/plain": "1456714"
     },
     "execution_count": 108,
     "metadata": {},
     "output_type": "execute_result"
    }
   ],
   "source": [
    "len(chicago)"
   ],
   "metadata": {
    "collapsed": false,
    "pycharm": {
     "name": "#%%\n"
    }
   }
  },
  {
   "cell_type": "markdown",
   "source": [
    "## sample 1/4 of the data"
   ],
   "metadata": {
    "collapsed": false,
    "pycharm": {
     "name": "#%% md\n"
    }
   }
  },
  {
   "cell_type": "code",
   "source": [
    "sample = chicago.copy()"
   ],
   "metadata": {
    "collapsed": false,
    "pycharm": {
     "name": "#%%\n"
    }
   },
   "execution_count": 109,
   "outputs": []
  },
  {
   "cell_type": "code",
   "execution_count": 110,
   "outputs": [],
   "source": [
    "# drop 3/4 rows of the data uniformly\n",
    "drop_indices = np.random.choice(sample.index, int(3 * len(sample) / 4), replace=False)\n",
    "sample = sample.drop(drop_indices)"
   ],
   "metadata": {
    "collapsed": false,
    "pycharm": {
     "name": "#%%\n"
    }
   }
  },
  {
   "cell_type": "code",
   "execution_count": 111,
   "outputs": [
    {
     "data": {
      "text/plain": "364179"
     },
     "execution_count": 111,
     "metadata": {},
     "output_type": "execute_result"
    }
   ],
   "source": [
    "len(sample)"
   ],
   "metadata": {
    "collapsed": false,
    "pycharm": {
     "name": "#%%\n"
    }
   }
  },
  {
   "cell_type": "code",
   "execution_count": 112,
   "outputs": [
    {
     "data": {
      "text/plain": "    Unnamed: 0        ID Case Number                    Date  \\\n3          673  10508698    HZ250424  05/03/2016 10:10:00 PM   \n6         1130  10508703    HZ250489  05/03/2016 10:30:00 PM   \n8         1868  10508709    HZ250523  05/03/2016 04:00:00 PM   \n14        2477  10508728    HZ250505  05/03/2016 10:08:00 PM   \n18        3242  10508747    HZ250577  05/03/2016 08:00:00 PM   \n\n                    Block  IUCR         Primary Type Description  \\\n3       049XX W FULTON ST  0460              BATTERY      SIMPLE   \n6        027XX S STATE ST  0460              BATTERY      SIMPLE   \n8       014XX W DEVON AVE  0460              BATTERY      SIMPLE   \n14  016XX N CLAREMONT AVE  0810                THEFT   OVER $500   \n18    100XX S SANGAMON ST  0910  MOTOR VEHICLE THEFT  AUTOMOBILE   \n\n              Location Description  Arrest  ...  Ward  Community Area  \\\n3                         SIDEWALK   False  ...  28.0            25.0   \n6   CHA HALLWAY/STAIRWELL/ELEVATOR   False  ...   3.0            35.0   \n8                         SIDEWALK   False  ...  40.0             1.0   \n14                          STREET   False  ...   1.0            24.0   \n18                          STREET   False  ...  34.0            73.0   \n\n    FBI Code  X Coordinate  Y Coordinate  Year              Updated On  \\\n3        08B     1143223.0     1901475.0  2016  05/10/2016 03:56:50 PM   \n6        08B     1176730.0     1886544.0  2016  05/10/2016 03:56:50 PM   \n8        08B     1165696.0     1942616.0  2016  05/10/2016 03:56:50 PM   \n14        06     1160444.0     1910787.0  2016  05/10/2016 03:56:50 PM   \n18        07     1171751.0     1838335.0  2016  05/10/2016 03:56:50 PM   \n\n     Latitude  Longitude                       Location  \n3   41.885687 -87.749516  (41.885686845, -87.749515983)  \n6   41.844024 -87.626923  (41.844023772, -87.626923253)  \n8   41.998131 -87.665814   (41.99813061, -87.665814038)  \n14  41.910901 -87.686019  (41.910900826, -87.686018747)  \n18  41.711844 -87.646608  (41.711843569, -87.646607932)  \n\n[5 rows x 23 columns]",
      "text/html": "<div>\n<style scoped>\n    .dataframe tbody tr th:only-of-type {\n        vertical-align: middle;\n    }\n\n    .dataframe tbody tr th {\n        vertical-align: top;\n    }\n\n    .dataframe thead th {\n        text-align: right;\n    }\n</style>\n<table border=\"1\" class=\"dataframe\">\n  <thead>\n    <tr style=\"text-align: right;\">\n      <th></th>\n      <th>Unnamed: 0</th>\n      <th>ID</th>\n      <th>Case Number</th>\n      <th>Date</th>\n      <th>Block</th>\n      <th>IUCR</th>\n      <th>Primary Type</th>\n      <th>Description</th>\n      <th>Location Description</th>\n      <th>Arrest</th>\n      <th>...</th>\n      <th>Ward</th>\n      <th>Community Area</th>\n      <th>FBI Code</th>\n      <th>X Coordinate</th>\n      <th>Y Coordinate</th>\n      <th>Year</th>\n      <th>Updated On</th>\n      <th>Latitude</th>\n      <th>Longitude</th>\n      <th>Location</th>\n    </tr>\n  </thead>\n  <tbody>\n    <tr>\n      <th>3</th>\n      <td>673</td>\n      <td>10508698</td>\n      <td>HZ250424</td>\n      <td>05/03/2016 10:10:00 PM</td>\n      <td>049XX W FULTON ST</td>\n      <td>0460</td>\n      <td>BATTERY</td>\n      <td>SIMPLE</td>\n      <td>SIDEWALK</td>\n      <td>False</td>\n      <td>...</td>\n      <td>28.0</td>\n      <td>25.0</td>\n      <td>08B</td>\n      <td>1143223.0</td>\n      <td>1901475.0</td>\n      <td>2016</td>\n      <td>05/10/2016 03:56:50 PM</td>\n      <td>41.885687</td>\n      <td>-87.749516</td>\n      <td>(41.885686845, -87.749515983)</td>\n    </tr>\n    <tr>\n      <th>6</th>\n      <td>1130</td>\n      <td>10508703</td>\n      <td>HZ250489</td>\n      <td>05/03/2016 10:30:00 PM</td>\n      <td>027XX S STATE ST</td>\n      <td>0460</td>\n      <td>BATTERY</td>\n      <td>SIMPLE</td>\n      <td>CHA HALLWAY/STAIRWELL/ELEVATOR</td>\n      <td>False</td>\n      <td>...</td>\n      <td>3.0</td>\n      <td>35.0</td>\n      <td>08B</td>\n      <td>1176730.0</td>\n      <td>1886544.0</td>\n      <td>2016</td>\n      <td>05/10/2016 03:56:50 PM</td>\n      <td>41.844024</td>\n      <td>-87.626923</td>\n      <td>(41.844023772, -87.626923253)</td>\n    </tr>\n    <tr>\n      <th>8</th>\n      <td>1868</td>\n      <td>10508709</td>\n      <td>HZ250523</td>\n      <td>05/03/2016 04:00:00 PM</td>\n      <td>014XX W DEVON AVE</td>\n      <td>0460</td>\n      <td>BATTERY</td>\n      <td>SIMPLE</td>\n      <td>SIDEWALK</td>\n      <td>False</td>\n      <td>...</td>\n      <td>40.0</td>\n      <td>1.0</td>\n      <td>08B</td>\n      <td>1165696.0</td>\n      <td>1942616.0</td>\n      <td>2016</td>\n      <td>05/10/2016 03:56:50 PM</td>\n      <td>41.998131</td>\n      <td>-87.665814</td>\n      <td>(41.99813061, -87.665814038)</td>\n    </tr>\n    <tr>\n      <th>14</th>\n      <td>2477</td>\n      <td>10508728</td>\n      <td>HZ250505</td>\n      <td>05/03/2016 10:08:00 PM</td>\n      <td>016XX N CLAREMONT AVE</td>\n      <td>0810</td>\n      <td>THEFT</td>\n      <td>OVER $500</td>\n      <td>STREET</td>\n      <td>False</td>\n      <td>...</td>\n      <td>1.0</td>\n      <td>24.0</td>\n      <td>06</td>\n      <td>1160444.0</td>\n      <td>1910787.0</td>\n      <td>2016</td>\n      <td>05/10/2016 03:56:50 PM</td>\n      <td>41.910901</td>\n      <td>-87.686019</td>\n      <td>(41.910900826, -87.686018747)</td>\n    </tr>\n    <tr>\n      <th>18</th>\n      <td>3242</td>\n      <td>10508747</td>\n      <td>HZ250577</td>\n      <td>05/03/2016 08:00:00 PM</td>\n      <td>100XX S SANGAMON ST</td>\n      <td>0910</td>\n      <td>MOTOR VEHICLE THEFT</td>\n      <td>AUTOMOBILE</td>\n      <td>STREET</td>\n      <td>False</td>\n      <td>...</td>\n      <td>34.0</td>\n      <td>73.0</td>\n      <td>07</td>\n      <td>1171751.0</td>\n      <td>1838335.0</td>\n      <td>2016</td>\n      <td>05/10/2016 03:56:50 PM</td>\n      <td>41.711844</td>\n      <td>-87.646608</td>\n      <td>(41.711843569, -87.646607932)</td>\n    </tr>\n  </tbody>\n</table>\n<p>5 rows × 23 columns</p>\n</div>"
     },
     "execution_count": 112,
     "metadata": {},
     "output_type": "execute_result"
    }
   ],
   "source": [
    "sample.head()"
   ],
   "metadata": {
    "collapsed": false,
    "pycharm": {
     "name": "#%%\n"
    }
   }
  },
  {
   "cell_type": "code",
   "execution_count": 113,
   "outputs": [],
   "source": [
    "sample.to_csv('chicago_sample.csv', sep=',')"
   ],
   "metadata": {
    "collapsed": false,
    "pycharm": {
     "name": "#%%\n"
    }
   }
  },
  {
   "cell_type": "markdown",
   "source": [
    "## drop unnecessary columns"
   ],
   "metadata": {
    "collapsed": false,
    "pycharm": {
     "name": "#%% md\n"
    }
   }
  },
  {
   "cell_type": "code",
   "execution_count": 114,
   "outputs": [],
   "source": [
    "clean_sample = sample.copy()"
   ],
   "metadata": {
    "collapsed": false,
    "pycharm": {
     "name": "#%%\n"
    }
   }
  },
  {
   "cell_type": "code",
   "execution_count": 115,
   "outputs": [],
   "source": [
    "clean_sample.drop(['X Coordinate', 'Y Coordinate', 'Location', 'Updated On', 'IUCR', 'Unnamed: 0', 'Block', 'Case Number', 'Ward', 'Community Area'], axis=1, inplace=True)"
   ],
   "metadata": {
    "collapsed": false,
    "pycharm": {
     "name": "#%%\n"
    }
   }
  },
  {
   "cell_type": "code",
   "execution_count": 116,
   "outputs": [],
   "source": [
    "clean_sample.to_csv('chicago_clean_sample.csv', sep=',')"
   ],
   "metadata": {
    "collapsed": false,
    "pycharm": {
     "name": "#%%\n"
    }
   }
  },
  {
   "cell_type": "code",
   "execution_count": 117,
   "outputs": [
    {
     "data": {
      "text/plain": "          ID                    Date         Primary Type Description  \\\n3   10508698  05/03/2016 10:10:00 PM              BATTERY      SIMPLE   \n6   10508703  05/03/2016 10:30:00 PM              BATTERY      SIMPLE   \n8   10508709  05/03/2016 04:00:00 PM              BATTERY      SIMPLE   \n14  10508728  05/03/2016 10:08:00 PM                THEFT   OVER $500   \n18  10508747  05/03/2016 08:00:00 PM  MOTOR VEHICLE THEFT  AUTOMOBILE   \n\n              Location Description  Arrest  Domestic  Beat  District FBI Code  \\\n3                         SIDEWALK   False     False  1532      15.0      08B   \n6   CHA HALLWAY/STAIRWELL/ELEVATOR   False     False   133       1.0      08B   \n8                         SIDEWALK   False     False  2432      24.0      08B   \n14                          STREET   False     False  1434      14.0       06   \n18                          STREET   False     False  2232      22.0       07   \n\n    Year   Latitude  Longitude  \n3   2016  41.885687 -87.749516  \n6   2016  41.844024 -87.626923  \n8   2016  41.998131 -87.665814  \n14  2016  41.910901 -87.686019  \n18  2016  41.711844 -87.646608  ",
      "text/html": "<div>\n<style scoped>\n    .dataframe tbody tr th:only-of-type {\n        vertical-align: middle;\n    }\n\n    .dataframe tbody tr th {\n        vertical-align: top;\n    }\n\n    .dataframe thead th {\n        text-align: right;\n    }\n</style>\n<table border=\"1\" class=\"dataframe\">\n  <thead>\n    <tr style=\"text-align: right;\">\n      <th></th>\n      <th>ID</th>\n      <th>Date</th>\n      <th>Primary Type</th>\n      <th>Description</th>\n      <th>Location Description</th>\n      <th>Arrest</th>\n      <th>Domestic</th>\n      <th>Beat</th>\n      <th>District</th>\n      <th>FBI Code</th>\n      <th>Year</th>\n      <th>Latitude</th>\n      <th>Longitude</th>\n    </tr>\n  </thead>\n  <tbody>\n    <tr>\n      <th>3</th>\n      <td>10508698</td>\n      <td>05/03/2016 10:10:00 PM</td>\n      <td>BATTERY</td>\n      <td>SIMPLE</td>\n      <td>SIDEWALK</td>\n      <td>False</td>\n      <td>False</td>\n      <td>1532</td>\n      <td>15.0</td>\n      <td>08B</td>\n      <td>2016</td>\n      <td>41.885687</td>\n      <td>-87.749516</td>\n    </tr>\n    <tr>\n      <th>6</th>\n      <td>10508703</td>\n      <td>05/03/2016 10:30:00 PM</td>\n      <td>BATTERY</td>\n      <td>SIMPLE</td>\n      <td>CHA HALLWAY/STAIRWELL/ELEVATOR</td>\n      <td>False</td>\n      <td>False</td>\n      <td>133</td>\n      <td>1.0</td>\n      <td>08B</td>\n      <td>2016</td>\n      <td>41.844024</td>\n      <td>-87.626923</td>\n    </tr>\n    <tr>\n      <th>8</th>\n      <td>10508709</td>\n      <td>05/03/2016 04:00:00 PM</td>\n      <td>BATTERY</td>\n      <td>SIMPLE</td>\n      <td>SIDEWALK</td>\n      <td>False</td>\n      <td>False</td>\n      <td>2432</td>\n      <td>24.0</td>\n      <td>08B</td>\n      <td>2016</td>\n      <td>41.998131</td>\n      <td>-87.665814</td>\n    </tr>\n    <tr>\n      <th>14</th>\n      <td>10508728</td>\n      <td>05/03/2016 10:08:00 PM</td>\n      <td>THEFT</td>\n      <td>OVER $500</td>\n      <td>STREET</td>\n      <td>False</td>\n      <td>False</td>\n      <td>1434</td>\n      <td>14.0</td>\n      <td>06</td>\n      <td>2016</td>\n      <td>41.910901</td>\n      <td>-87.686019</td>\n    </tr>\n    <tr>\n      <th>18</th>\n      <td>10508747</td>\n      <td>05/03/2016 08:00:00 PM</td>\n      <td>MOTOR VEHICLE THEFT</td>\n      <td>AUTOMOBILE</td>\n      <td>STREET</td>\n      <td>False</td>\n      <td>False</td>\n      <td>2232</td>\n      <td>22.0</td>\n      <td>07</td>\n      <td>2016</td>\n      <td>41.711844</td>\n      <td>-87.646608</td>\n    </tr>\n  </tbody>\n</table>\n</div>"
     },
     "execution_count": 117,
     "metadata": {},
     "output_type": "execute_result"
    }
   ],
   "source": [
    "clean_sample.head()"
   ],
   "metadata": {
    "collapsed": false,
    "pycharm": {
     "name": "#%%\n"
    }
   }
  },
  {
   "cell_type": "code",
   "execution_count": 118,
   "outputs": [
    {
     "data": {
      "text/plain": "                 ID           Beat       District           Year  \\\ncount  3.641790e+05  364179.000000  364179.000000  364179.000000   \nmean   9.598956e+06    1150.264614      11.255259    2013.900126   \nstd    8.086103e+05     691.640873       6.904382       1.450083   \nmin    2.022700e+04     111.000000       1.000000    2012.000000   \n25%    9.002772e+06     613.000000       6.000000    2013.000000   \n50%    9.608623e+06    1024.000000      10.000000    2014.000000   \n75%    1.022709e+07    1711.000000      17.000000    2015.000000   \nmax    1.082786e+07    2535.000000      31.000000    2017.000000   \n\n            Latitude      Longitude  \ncount  355029.000000  355029.000000  \nmean       41.841447     -87.672203  \nstd         0.093274       0.065856  \nmin        36.619446     -91.686566  \n25%        41.767939     -87.715400  \n50%        41.857895     -87.666044  \n75%        41.904986     -87.628152  \nmax        42.022586     -87.524529  ",
      "text/html": "<div>\n<style scoped>\n    .dataframe tbody tr th:only-of-type {\n        vertical-align: middle;\n    }\n\n    .dataframe tbody tr th {\n        vertical-align: top;\n    }\n\n    .dataframe thead th {\n        text-align: right;\n    }\n</style>\n<table border=\"1\" class=\"dataframe\">\n  <thead>\n    <tr style=\"text-align: right;\">\n      <th></th>\n      <th>ID</th>\n      <th>Beat</th>\n      <th>District</th>\n      <th>Year</th>\n      <th>Latitude</th>\n      <th>Longitude</th>\n    </tr>\n  </thead>\n  <tbody>\n    <tr>\n      <th>count</th>\n      <td>3.641790e+05</td>\n      <td>364179.000000</td>\n      <td>364179.000000</td>\n      <td>364179.000000</td>\n      <td>355029.000000</td>\n      <td>355029.000000</td>\n    </tr>\n    <tr>\n      <th>mean</th>\n      <td>9.598956e+06</td>\n      <td>1150.264614</td>\n      <td>11.255259</td>\n      <td>2013.900126</td>\n      <td>41.841447</td>\n      <td>-87.672203</td>\n    </tr>\n    <tr>\n      <th>std</th>\n      <td>8.086103e+05</td>\n      <td>691.640873</td>\n      <td>6.904382</td>\n      <td>1.450083</td>\n      <td>0.093274</td>\n      <td>0.065856</td>\n    </tr>\n    <tr>\n      <th>min</th>\n      <td>2.022700e+04</td>\n      <td>111.000000</td>\n      <td>1.000000</td>\n      <td>2012.000000</td>\n      <td>36.619446</td>\n      <td>-91.686566</td>\n    </tr>\n    <tr>\n      <th>25%</th>\n      <td>9.002772e+06</td>\n      <td>613.000000</td>\n      <td>6.000000</td>\n      <td>2013.000000</td>\n      <td>41.767939</td>\n      <td>-87.715400</td>\n    </tr>\n    <tr>\n      <th>50%</th>\n      <td>9.608623e+06</td>\n      <td>1024.000000</td>\n      <td>10.000000</td>\n      <td>2014.000000</td>\n      <td>41.857895</td>\n      <td>-87.666044</td>\n    </tr>\n    <tr>\n      <th>75%</th>\n      <td>1.022709e+07</td>\n      <td>1711.000000</td>\n      <td>17.000000</td>\n      <td>2015.000000</td>\n      <td>41.904986</td>\n      <td>-87.628152</td>\n    </tr>\n    <tr>\n      <th>max</th>\n      <td>1.082786e+07</td>\n      <td>2535.000000</td>\n      <td>31.000000</td>\n      <td>2017.000000</td>\n      <td>42.022586</td>\n      <td>-87.524529</td>\n    </tr>\n  </tbody>\n</table>\n</div>"
     },
     "execution_count": 118,
     "metadata": {},
     "output_type": "execute_result"
    }
   ],
   "source": [
    "clean_sample.describe()"
   ],
   "metadata": {
    "collapsed": false,
    "pycharm": {
     "name": "#%%\n"
    }
   }
  },
  {
   "cell_type": "markdown",
   "source": [
    "# neighborhoods heatmap"
   ],
   "metadata": {
    "collapsed": false,
    "pycharm": {
     "name": "#%% md\n"
    }
   },
   "outputs": [],
   "execution_count": 1
  },
  {
   "cell_type": "code",
   "execution_count": 119,
   "outputs": [],
   "source": [
    "chicago = pd.read_csv('data/chicago_clean_sample.csv')"
   ],
   "metadata": {
    "collapsed": false,
    "pycharm": {
     "name": "#%%\n"
    }
   }
  },
  {
   "cell_type": "code",
   "execution_count": 120,
   "outputs": [],
   "source": [
    "chicago = chicago.dropna(subset=['Latitude', 'Longitude'])"
   ],
   "metadata": {
    "collapsed": false,
    "pycharm": {
     "name": "#%%\n"
    }
   }
  },
  {
   "cell_type": "code",
   "execution_count": 121,
   "outputs": [
    {
     "data": {
      "text/plain": "   Unnamed: 0        ID                    Date        Primary Type  \\\n0           1  10508695  05/03/2016 09:40:00 PM             BATTERY   \n1           3  10508698  05/03/2016 10:10:00 PM             BATTERY   \n2           8  10508709  05/03/2016 04:00:00 PM             BATTERY   \n3           9  10508982  05/03/2016 10:30:00 PM             BATTERY   \n4          27  10509077  05/03/2016 12:01:00 AM  DECEPTIVE PRACTICE   \n\n                Description Location Description  Arrest  Domestic  Beat  \\\n0   DOMESTIC BATTERY SIMPLE            RESIDENCE   False      True   313   \n1                    SIMPLE             SIDEWALK   False     False  1532   \n2                    SIMPLE             SIDEWALK   False     False  2432   \n3   DOMESTIC BATTERY SIMPLE               STREET   False      True   735   \n4  FRAUD OR CONFIDENCE GAME            RESIDENCE   False     False   915   \n\n   District FBI Code  Year   Latitude  Longitude  \n0       3.0      08B  2016  41.782922 -87.604363  \n1      15.0      08B  2016  41.885687 -87.749516  \n2      24.0      08B  2016  41.998131 -87.665814  \n3       7.0      08B  2016  41.768097 -87.663879  \n4       9.0       11  2016  41.834586 -87.632285  ",
      "text/html": "<div>\n<style scoped>\n    .dataframe tbody tr th:only-of-type {\n        vertical-align: middle;\n    }\n\n    .dataframe tbody tr th {\n        vertical-align: top;\n    }\n\n    .dataframe thead th {\n        text-align: right;\n    }\n</style>\n<table border=\"1\" class=\"dataframe\">\n  <thead>\n    <tr style=\"text-align: right;\">\n      <th></th>\n      <th>Unnamed: 0</th>\n      <th>ID</th>\n      <th>Date</th>\n      <th>Primary Type</th>\n      <th>Description</th>\n      <th>Location Description</th>\n      <th>Arrest</th>\n      <th>Domestic</th>\n      <th>Beat</th>\n      <th>District</th>\n      <th>FBI Code</th>\n      <th>Year</th>\n      <th>Latitude</th>\n      <th>Longitude</th>\n    </tr>\n  </thead>\n  <tbody>\n    <tr>\n      <th>0</th>\n      <td>1</td>\n      <td>10508695</td>\n      <td>05/03/2016 09:40:00 PM</td>\n      <td>BATTERY</td>\n      <td>DOMESTIC BATTERY SIMPLE</td>\n      <td>RESIDENCE</td>\n      <td>False</td>\n      <td>True</td>\n      <td>313</td>\n      <td>3.0</td>\n      <td>08B</td>\n      <td>2016</td>\n      <td>41.782922</td>\n      <td>-87.604363</td>\n    </tr>\n    <tr>\n      <th>1</th>\n      <td>3</td>\n      <td>10508698</td>\n      <td>05/03/2016 10:10:00 PM</td>\n      <td>BATTERY</td>\n      <td>SIMPLE</td>\n      <td>SIDEWALK</td>\n      <td>False</td>\n      <td>False</td>\n      <td>1532</td>\n      <td>15.0</td>\n      <td>08B</td>\n      <td>2016</td>\n      <td>41.885687</td>\n      <td>-87.749516</td>\n    </tr>\n    <tr>\n      <th>2</th>\n      <td>8</td>\n      <td>10508709</td>\n      <td>05/03/2016 04:00:00 PM</td>\n      <td>BATTERY</td>\n      <td>SIMPLE</td>\n      <td>SIDEWALK</td>\n      <td>False</td>\n      <td>False</td>\n      <td>2432</td>\n      <td>24.0</td>\n      <td>08B</td>\n      <td>2016</td>\n      <td>41.998131</td>\n      <td>-87.665814</td>\n    </tr>\n    <tr>\n      <th>3</th>\n      <td>9</td>\n      <td>10508982</td>\n      <td>05/03/2016 10:30:00 PM</td>\n      <td>BATTERY</td>\n      <td>DOMESTIC BATTERY SIMPLE</td>\n      <td>STREET</td>\n      <td>False</td>\n      <td>True</td>\n      <td>735</td>\n      <td>7.0</td>\n      <td>08B</td>\n      <td>2016</td>\n      <td>41.768097</td>\n      <td>-87.663879</td>\n    </tr>\n    <tr>\n      <th>4</th>\n      <td>27</td>\n      <td>10509077</td>\n      <td>05/03/2016 12:01:00 AM</td>\n      <td>DECEPTIVE PRACTICE</td>\n      <td>FRAUD OR CONFIDENCE GAME</td>\n      <td>RESIDENCE</td>\n      <td>False</td>\n      <td>False</td>\n      <td>915</td>\n      <td>9.0</td>\n      <td>11</td>\n      <td>2016</td>\n      <td>41.834586</td>\n      <td>-87.632285</td>\n    </tr>\n  </tbody>\n</table>\n</div>"
     },
     "execution_count": 121,
     "metadata": {},
     "output_type": "execute_result"
    }
   ],
   "source": [
    "chicago.head()"
   ],
   "metadata": {
    "collapsed": false,
    "pycharm": {
     "name": "#%%\n"
    }
   }
  },
  {
   "cell_type": "code",
   "execution_count": 122,
   "outputs": [],
   "source": [
    "crime_lats = chicago['Latitude']\n",
    "crime_lons = chicago['Longitude']"
   ],
   "metadata": {
    "collapsed": false,
    "pycharm": {
     "name": "#%%\n"
    }
   }
  },
  {
   "cell_type": "code",
   "execution_count": 123,
   "outputs": [
    {
     "ename": "KeyboardInterrupt",
     "evalue": "",
     "output_type": "error",
     "traceback": [
      "\u001B[1;31m---------------------------------------------------------------------------\u001B[0m",
      "\u001B[1;31mKeyboardInterrupt\u001B[0m                         Traceback (most recent call last)",
      "Cell \u001B[1;32mIn [123], line 1\u001B[0m\n\u001B[1;32m----> 1\u001B[0m crime_points \u001B[38;5;241m=\u001B[39m [Point(lon, lat) \u001B[38;5;28;01mfor\u001B[39;00m lon, lat \u001B[38;5;129;01min\u001B[39;00m \u001B[38;5;28mzip\u001B[39m(crime_lons, crime_lats)]\n",
      "Cell \u001B[1;32mIn [123], line 1\u001B[0m, in \u001B[0;36m<listcomp>\u001B[1;34m(.0)\u001B[0m\n\u001B[1;32m----> 1\u001B[0m crime_points \u001B[38;5;241m=\u001B[39m [\u001B[43mPoint\u001B[49m\u001B[43m(\u001B[49m\u001B[43mlon\u001B[49m\u001B[43m,\u001B[49m\u001B[43m \u001B[49m\u001B[43mlat\u001B[49m\u001B[43m)\u001B[49m \u001B[38;5;28;01mfor\u001B[39;00m lon, lat \u001B[38;5;129;01min\u001B[39;00m \u001B[38;5;28mzip\u001B[39m(crime_lons, crime_lats)]\n",
      "File \u001B[1;32mc:\\users\\fogle\\pycharmprojects\\chicago-crimes-exploration\\venv\\lib\\site-packages\\shapely\\geometry\\point.py:57\u001B[0m, in \u001B[0;36mPoint.__init__\u001B[1;34m(self, *args)\u001B[0m\n\u001B[0;32m     53\u001B[0m     \u001B[38;5;28;01mraise\u001B[39;00m \u001B[38;5;167;01mTypeError\u001B[39;00m(\n\u001B[0;32m     54\u001B[0m         \u001B[38;5;124m\"\u001B[39m\u001B[38;5;124mPoint() takes at most 3 arguments (\u001B[39m\u001B[38;5;132;01m{}\u001B[39;00m\u001B[38;5;124m given)\u001B[39m\u001B[38;5;124m\"\u001B[39m\u001B[38;5;241m.\u001B[39mformat(\u001B[38;5;28mlen\u001B[39m(args))\n\u001B[0;32m     55\u001B[0m     )\n\u001B[0;32m     56\u001B[0m \u001B[38;5;28;01melse\u001B[39;00m:\n\u001B[1;32m---> 57\u001B[0m     geom, n \u001B[38;5;241m=\u001B[39m \u001B[43mgeos_point_from_py\u001B[49m\u001B[43m(\u001B[49m\u001B[38;5;28;43mtuple\u001B[39;49m\u001B[43m(\u001B[49m\u001B[43margs\u001B[49m\u001B[43m)\u001B[49m\u001B[43m)\u001B[49m\n\u001B[0;32m     58\u001B[0m \u001B[38;5;28mself\u001B[39m\u001B[38;5;241m.\u001B[39m_set_geom(geom)\n\u001B[0;32m     59\u001B[0m \u001B[38;5;28mself\u001B[39m\u001B[38;5;241m.\u001B[39m_ndim \u001B[38;5;241m=\u001B[39m n\n",
      "File \u001B[1;32mc:\\users\\fogle\\pycharmprojects\\chicago-crimes-exploration\\venv\\lib\\site-packages\\shapely\\geometry\\point.py:275\u001B[0m, in \u001B[0;36mgeos_point_from_py\u001B[1;34m(ob, update_geom, update_ndim)\u001B[0m\n\u001B[0;32m    271\u001B[0m         \u001B[38;5;28;01mraise\u001B[39;00m \u001B[38;5;167;01mValueError\u001B[39;00m(\n\u001B[0;32m    272\u001B[0m             \u001B[38;5;124m\"\u001B[39m\u001B[38;5;124mWrong coordinate dimensions; this geometry has dimensions: \u001B[39m\u001B[38;5;124m\"\u001B[39m\n\u001B[0;32m    273\u001B[0m             \u001B[38;5;124m\"\u001B[39m\u001B[38;5;132;01m%d\u001B[39;00m\u001B[38;5;124m\"\u001B[39m \u001B[38;5;241m%\u001B[39m update_ndim)\n\u001B[0;32m    274\u001B[0m \u001B[38;5;28;01melse\u001B[39;00m:\n\u001B[1;32m--> 275\u001B[0m     cs \u001B[38;5;241m=\u001B[39m \u001B[43mlgeos\u001B[49m\u001B[38;5;241;43m.\u001B[39;49m\u001B[43mGEOSCoordSeq_create\u001B[49m\u001B[43m(\u001B[49m\u001B[38;5;241;43m1\u001B[39;49m\u001B[43m,\u001B[49m\u001B[43m \u001B[49m\u001B[43mn\u001B[49m\u001B[43m)\u001B[49m\n\u001B[0;32m    277\u001B[0m \u001B[38;5;66;03m# Because of a bug in the GEOS C API, always set X before Y\u001B[39;00m\n\u001B[0;32m    278\u001B[0m lgeos\u001B[38;5;241m.\u001B[39mGEOSCoordSeq_setX(cs, \u001B[38;5;241m0\u001B[39m, dx)\n",
      "\u001B[1;31mKeyboardInterrupt\u001B[0m: "
     ]
    }
   ],
   "source": [
    "crime_points = [Point(lon, lat) for lon, lat in zip(crime_lons, crime_lats)]"
   ],
   "metadata": {
    "collapsed": false,
    "pycharm": {
     "name": "#%%\n"
    }
   }
  },
  {
   "cell_type": "code",
   "execution_count": null,
   "outputs": [],
   "source": [
    "crime_points_sample = choices(crime_points, k=5000)"
   ],
   "metadata": {
    "collapsed": false,
    "pycharm": {
     "name": "#%%\n"
    }
   }
  },
  {
   "cell_type": "code",
   "execution_count": null,
   "outputs": [],
   "source": [
    "fontsize=16\n",
    "plt.title('locations of crimes in chicago', fontsize=fontsize)\n",
    "plt.scatter([p.x for p in crime_points_sample], [p.y for p in crime_points_sample])"
   ],
   "metadata": {
    "collapsed": false,
    "pycharm": {
     "name": "#%%\n"
    }
   }
  },
  {
   "cell_type": "code",
   "execution_count": null,
   "outputs": [],
   "source": [
    "f = open('data/chicago_neighborhoods.json')\n",
    "neighborhoods_json = json.load(f)"
   ],
   "metadata": {
    "collapsed": false,
    "pycharm": {
     "name": "#%%\n"
    }
   }
  },
  {
   "cell_type": "code",
   "execution_count": null,
   "outputs": [],
   "source": [
    "neighborhoods = [(nj[-4], list(shapely.wkt.loads(nj[-5]))[0]) for nj in neighborhoods_json['data']]"
   ],
   "metadata": {
    "collapsed": false,
    "pycharm": {
     "name": "#%%\n"
    }
   }
  },
  {
   "cell_type": "code",
   "execution_count": null,
   "outputs": [],
   "source": [
    "plt.title('neighborhoods in chicago', fontsize=fontsize)\n",
    "\n",
    "for neighborhood in neighborhoods:\n",
    "    polygon = neighborhood[1]\n",
    "    x,y = polygon.exterior.xy\n",
    "    plt.fill(x,y)"
   ],
   "metadata": {
    "collapsed": false,
    "pycharm": {
     "name": "#%%\n"
    }
   }
  },
  {
   "cell_type": "code",
   "execution_count": null,
   "outputs": [],
   "source": [
    "neighborhoods_crimes_count = {name: 0 for name, polygons in neighborhoods}"
   ],
   "metadata": {
    "collapsed": false,
    "pycharm": {
     "name": "#%%\n"
    }
   }
  },
  {
   "cell_type": "code",
   "execution_count": null,
   "outputs": [],
   "source": [
    "for point in crime_points:\n",
    "    for neighborhood in neighborhoods:\n",
    "        name, polygon = neighborhood\n",
    "        if polygon.contains(point):\n",
    "            neighborhoods_crimes_count[name] += 1"
   ],
   "metadata": {
    "collapsed": false,
    "pycharm": {
     "name": "#%%\n"
    }
   }
  },
  {
   "cell_type": "code",
   "execution_count": null,
   "outputs": [],
   "source": [
    "total_crimes_count = sum(neighborhoods_crimes_count.values())"
   ],
   "metadata": {
    "collapsed": false,
    "pycharm": {
     "name": "#%%\n"
    }
   }
  },
  {
   "cell_type": "code",
   "execution_count": null,
   "outputs": [],
   "source": [
    "minima = min(neighborhoods_crimes_count.values())\n",
    "maxima = max(neighborhoods_crimes_count.values())\n",
    "\n",
    "normalize = colors.Normalize(vmin=min(neighborhoods_crimes_count.values()),\n",
    "                             vmax=max(neighborhoods_crimes_count.values()))\n",
    "cmap = plt.cm.get_cmap('hot')"
   ],
   "metadata": {
    "collapsed": false,
    "pycharm": {
     "name": "#%%\n"
    }
   }
  },
  {
   "cell_type": "code",
   "execution_count": null,
   "outputs": [],
   "source": [
    "plt.figure(figsize=(9,7))\n",
    "plt.title('heatmap of crimes in chicago', fontsize=fontsize)\n",
    "\n",
    "for neighborhood in neighborhoods:\n",
    "    name, polygon = neighborhood\n",
    "    x,y = polygon.exterior.xy\n",
    "    plt.fill(x,y, color=cmap(normalize(neighborhoods_crimes_count[name])))"
   ],
   "metadata": {
    "collapsed": false,
    "pycharm": {
     "name": "#%%\n"
    }
   }
  },
  {
   "cell_type": "code",
   "execution_count": null,
   "outputs": [],
   "source": [
    "plt.figure(figsize=(9,7))\n",
    "plt.title('heatmap of crimes in chicago', fontsize=fontsize)\n",
    "for neighborhood in neighborhoods:\n",
    "    name, polygon = neighborhood\n",
    "    x,y = polygon.exterior.xy\n",
    "    plt.fill(x,y, color=cmap(normalize(neighborhoods_crimes_count[name])))\n",
    "    plt.text(polygon.centroid.x, polygon.centroid.y, f'{int(100 * round(neighborhoods_crimes_count[name] / total_crimes_count, 2))}%', color='white')"
   ],
   "metadata": {
    "collapsed": false,
    "pycharm": {
     "name": "#%%\n"
    }
   }
  }
 ],
 "metadata": {
  "kernelspec": {
   "display_name": "Python 3",
   "language": "python",
   "name": "python3"
  },
  "language_info": {
   "codemirror_mode": {
    "name": "ipython",
    "version": 2
   },
   "file_extension": ".py",
   "mimetype": "text/x-python",
   "name": "python",
   "nbconvert_exporter": "python",
   "pygments_lexer": "ipython2",
   "version": "2.7.6"
  }
 },
 "nbformat": 4,
 "nbformat_minor": 0
}